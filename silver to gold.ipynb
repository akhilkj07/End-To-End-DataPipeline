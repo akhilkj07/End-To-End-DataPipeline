{
 "cells": [
  {
   "cell_type": "code",
   "execution_count": 0,
   "metadata": {
    "application/vnd.databricks.v1+cell": {
     "cellMetadata": {
      "byteLimit": 2048000,
      "rowLimit": 10000
     },
     "inputWidgets": {},
     "nuid": "bd82db7d-9ae7-4719-9bba-be0c2366fcc0",
     "showTitle": false,
     "tableResultSettingsMap": {},
     "title": ""
    }
   },
   "outputs": [
    {
     "output_type": "display_data",
     "data": {
      "text/html": [
       "<style scoped>\n",
       "  .table-result-container {\n",
       "    max-height: 300px;\n",
       "    overflow: auto;\n",
       "  }\n",
       "  table, th, td {\n",
       "    border: 1px solid black;\n",
       "    border-collapse: collapse;\n",
       "  }\n",
       "  th, td {\n",
       "    padding: 5px;\n",
       "  }\n",
       "  th {\n",
       "    text-align: left;\n",
       "  }\n",
       "</style><div class='table-result-container'><table class='table-result'><thead style='background-color: white'><tr><th>path</th><th>name</th><th>size</th><th>modificationTime</th></tr></thead><tbody><tr><td>dbfs:/mnt/dataengproj/silver/SalesLT/Address/</td><td>Address/</td><td>0</td><td>1731075237000</td></tr><tr><td>dbfs:/mnt/dataengproj/silver/SalesLT/Customer/</td><td>Customer/</td><td>0</td><td>1731075250000</td></tr><tr><td>dbfs:/mnt/dataengproj/silver/SalesLT/CustomerAddress/</td><td>CustomerAddress/</td><td>0</td><td>1731075253000</td></tr><tr><td>dbfs:/mnt/dataengproj/silver/SalesLT/Product/</td><td>Product/</td><td>0</td><td>1731075256000</td></tr><tr><td>dbfs:/mnt/dataengproj/silver/SalesLT/ProductCategory/</td><td>ProductCategory/</td><td>0</td><td>1731075259000</td></tr><tr><td>dbfs:/mnt/dataengproj/silver/SalesLT/ProductDescription/</td><td>ProductDescription/</td><td>0</td><td>1731075261000</td></tr><tr><td>dbfs:/mnt/dataengproj/silver/SalesLT/ProductModel/</td><td>ProductModel/</td><td>0</td><td>1731075264000</td></tr><tr><td>dbfs:/mnt/dataengproj/silver/SalesLT/ProductModelProductDescription/</td><td>ProductModelProductDescription/</td><td>0</td><td>1731075266000</td></tr><tr><td>dbfs:/mnt/dataengproj/silver/SalesLT/SalesOrderDetail/</td><td>SalesOrderDetail/</td><td>0</td><td>1731075268000</td></tr><tr><td>dbfs:/mnt/dataengproj/silver/SalesLT/SalesOrderHeader/</td><td>SalesOrderHeader/</td><td>0</td><td>1731075271000</td></tr></tbody></table></div>"
      ]
     },
     "metadata": {
      "application/vnd.databricks.v1+output": {
       "addedWidgets": {},
       "aggData": [],
       "aggError": "",
       "aggOverflow": false,
       "aggSchema": [],
       "aggSeriesLimitReached": false,
       "aggType": "",
       "arguments": {},
       "columnCustomDisplayInfos": {},
       "data": [
        [
         "dbfs:/mnt/dataengproj/silver/SalesLT/Address/",
         "Address/",
         0,
         1731075237000
        ],
        [
         "dbfs:/mnt/dataengproj/silver/SalesLT/Customer/",
         "Customer/",
         0,
         1731075250000
        ],
        [
         "dbfs:/mnt/dataengproj/silver/SalesLT/CustomerAddress/",
         "CustomerAddress/",
         0,
         1731075253000
        ],
        [
         "dbfs:/mnt/dataengproj/silver/SalesLT/Product/",
         "Product/",
         0,
         1731075256000
        ],
        [
         "dbfs:/mnt/dataengproj/silver/SalesLT/ProductCategory/",
         "ProductCategory/",
         0,
         1731075259000
        ],
        [
         "dbfs:/mnt/dataengproj/silver/SalesLT/ProductDescription/",
         "ProductDescription/",
         0,
         1731075261000
        ],
        [
         "dbfs:/mnt/dataengproj/silver/SalesLT/ProductModel/",
         "ProductModel/",
         0,
         1731075264000
        ],
        [
         "dbfs:/mnt/dataengproj/silver/SalesLT/ProductModelProductDescription/",
         "ProductModelProductDescription/",
         0,
         1731075266000
        ],
        [
         "dbfs:/mnt/dataengproj/silver/SalesLT/SalesOrderDetail/",
         "SalesOrderDetail/",
         0,
         1731075268000
        ],
        [
         "dbfs:/mnt/dataengproj/silver/SalesLT/SalesOrderHeader/",
         "SalesOrderHeader/",
         0,
         1731075271000
        ]
       ],
       "datasetInfos": [],
       "dbfsResultPath": null,
       "isJsonSchema": true,
       "metadata": {
        "isDbfsCommandResult": false
       },
       "overflow": false,
       "plotOptions": {
        "customPlotOptions": {},
        "displayType": "table",
        "pivotAggregation": null,
        "pivotColumns": null,
        "xColumns": null,
        "yColumns": null
       },
       "removedWidgets": [],
       "schema": [
        {
         "metadata": "{}",
         "name": "path",
         "type": "\"string\""
        },
        {
         "metadata": "{}",
         "name": "name",
         "type": "\"string\""
        },
        {
         "metadata": "{}",
         "name": "size",
         "type": "\"long\""
        },
        {
         "metadata": "{}",
         "name": "modificationTime",
         "type": "\"long\""
        }
       ],
       "type": "table"
      }
     },
     "output_type": "display_data"
    }
   ],
   "source": [
    "%fs ls \"mnt/dataengproj/silver/SalesLT/\""
   ]
  },
  {
   "cell_type": "markdown",
   "metadata": {
    "application/vnd.databricks.v1+cell": {
     "cellMetadata": {},
     "inputWidgets": {},
     "nuid": "1795c3b4-0b9f-4c8c-958f-836857ccc17c",
     "showTitle": false,
     "tableResultSettingsMap": {},
     "title": ""
    }
   },
   "source": [
    "###Changing column names in all tables from pascal case to different format"
   ]
  },
  {
   "cell_type": "code",
   "execution_count": 0,
   "metadata": {
    "application/vnd.databricks.v1+cell": {
     "cellMetadata": {
      "byteLimit": 2048000,
      "rowLimit": 10000
     },
     "inputWidgets": {},
     "nuid": "4c464768-74ce-4c73-8adf-e149e7e6fa77",
     "showTitle": false,
     "tableResultSettingsMap": {},
     "title": ""
    }
   },
   "outputs": [],
   "source": [
    "#collecting table names\n",
    "table_names = []\n",
    "\n",
    "for i in dbutils.fs.ls(\"dbfs:/mnt/dataengproj/silver/SalesLT/\"):\n",
    "  table_names.append(i.name.split('/')[0])"
   ]
  },
  {
   "cell_type": "code",
   "execution_count": 0,
   "metadata": {
    "application/vnd.databricks.v1+cell": {
     "cellMetadata": {
      "byteLimit": 2048000,
      "rowLimit": 10000
     },
     "inputWidgets": {},
     "nuid": "76b188c2-6b09-4d40-b336-da6552324be4",
     "showTitle": false,
     "tableResultSettingsMap": {},
     "title": ""
    }
   },
   "outputs": [
    {
     "output_type": "execute_result",
     "data": {
      "text/plain": [
       "['Address',\n",
       " 'Customer',\n",
       " 'CustomerAddress',\n",
       " 'Product',\n",
       " 'ProductCategory',\n",
       " 'ProductDescription',\n",
       " 'ProductModel',\n",
       " 'ProductModelProductDescription',\n",
       " 'SalesOrderDetail',\n",
       " 'SalesOrderHeader']"
      ]
     },
     "execution_count": 9,
     "metadata": {},
     "output_type": "execute_result"
    }
   ],
   "source": [
    "table_names"
   ]
  },
  {
   "cell_type": "code",
   "execution_count": 0,
   "metadata": {
    "application/vnd.databricks.v1+cell": {
     "cellMetadata": {
      "byteLimit": 2048000,
      "rowLimit": 10000
     },
     "inputWidgets": {},
     "nuid": "70dd02de-09de-4c4b-84b5-0f29f8eb01d2",
     "showTitle": false,
     "tableResultSettingsMap": {},
     "title": ""
    }
   },
   "outputs": [
    {
     "output_type": "stream",
     "name": "stdout",
     "output_type": "stream",
     "text": [
      "modifying table: Address\nmodifying table: Customer\nmodifying table: CustomerAddress\nmodifying table: Product\nmodifying table: ProductCategory\nmodifying table: ProductDescription\nmodifying table: ProductModel\nmodifying table: ProductModelProductDescription\nmodifying table: SalesOrderDetail\nmodifying table: SalesOrderHeader\n"
     ]
    }
   ],
   "source": [
    "from pyspark.sql.functions import col, regexp_replace\n",
    "\n",
    "for tbl_name in table_names:\n",
    "  path = \"dbfs:/mnt/dataengproj/silver/SalesLT/\" + tbl_name\n",
    "  print(\"modifying table: \" + tbl_name)\n",
    "  df = spark.read.format(\"delta\").load(path)\n",
    "\n",
    "  #Get column names\n",
    "  col = df.columns\n",
    "\n",
    "  for oldcol_name in col:\n",
    "    #set new col name -> ColumnName to Column_Name\n",
    "    newcol_name = \"\".join([\"_\" + char if char.isupper() and not oldcol_name[i-1].isupper() else char for i,char in enumerate(oldcol_name)]).lstrip(\"_\") #to remove the first underscore from column name\n",
    "\n",
    "    #renaming columns\n",
    "    df = df.withColumnRenamed(oldcol_name,newcol_name)\n",
    " \n",
    "  #save renamed dataframes in delta format to gold container\n",
    "  output_path = \"dbfs:/mnt/dataengproj/gold/SalesLT/\"+tbl_name+\"/\"\n",
    "  df.write.format(\"delta\").mode(\"overwrite\").option(\"mergeSchema\",\"true\").save(output_path)\n"
   ]
  },
  {
   "cell_type": "markdown",
   "metadata": {
    "application/vnd.databricks.v1+cell": {
     "cellMetadata": {},
     "inputWidgets": {},
     "nuid": "6851d7ec-4a44-4cdf-bcd6-647c857e7fc3",
     "showTitle": false,
     "tableResultSettingsMap": {},
     "title": ""
    }
   },
   "source": [
    "####Column names has been changed for all tables and moved to gold layer"
   ]
  },
  {
   "cell_type": "code",
   "execution_count": 0,
   "metadata": {
    "application/vnd.databricks.v1+cell": {
     "cellMetadata": {},
     "inputWidgets": {},
     "nuid": "19d9cee1-a679-43e0-89cd-4ecf3bc5f51d",
     "showTitle": false,
     "tableResultSettingsMap": {},
     "title": ""
    }
   },
   "outputs": [],
   "source": [
    "display(df)"
   ]
  }
 ],
 "metadata": {
  "application/vnd.databricks.v1+notebook": {
   "dashboards": [],
   "environmentMetadata": {
    "base_environment": "",
    "client": "1"
   },
   "language": "python",
   "notebookMetadata": {
    "mostRecentlyExecutedCommandWithImplicitDF": {
     "commandId": 4346710592437376,
     "dataframes": [
      "_sqldf"
     ]
    },
    "pythonIndentUnit": 2
   },
   "notebookName": "silver to gold",
   "widgets": {}
  },
  "language_info": {
   "name": "python"
  }
 },
 "nbformat": 4,
 "nbformat_minor": 0
}
