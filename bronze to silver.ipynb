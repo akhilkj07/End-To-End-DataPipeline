{
 "cells": [
  {
   "cell_type": "markdown",
   "metadata": {
    "application/vnd.databricks.v1+cell": {
     "cellMetadata": {},
     "inputWidgets": {},
     "nuid": "78f40687-06c8-4809-a8fb-caff856b22ca",
     "showTitle": false,
     "tableResultSettingsMap": {},
     "title": ""
    }
   },
   "source": [
    "###Before accessing the blob using mount point, make sure to give storage account contributor and blob contributor role to the registered app"
   ]
  },
  {
   "cell_type": "code",
   "execution_count": 0,
   "metadata": {
    "application/vnd.databricks.v1+cell": {
     "cellMetadata": {
      "byteLimit": 2048000,
      "rowLimit": 10000
     },
     "inputWidgets": {},
     "nuid": "ee88fc0e-82e3-42a9-a98a-0d2aa9b4c34e",
     "showTitle": false,
     "tableResultSettingsMap": {},
     "title": ""
    }
   },
   "outputs": [
    {
     "output_type": "stream",
     "name": "stdout",
     "output_type": "stream",
     "text": [
      "Address/\nCustomer/\nCustomerAddress/\nProduct/\nProductCategory/\nProductDescription/\nProductModel/\nProductModelProductDescription/\nSalesOrderDetail/\nSalesOrderHeader/\n"
     ]
    }
   ],
   "source": [
    "for i in dbutils.fs.ls(\"dbfs:/mnt/dataengproj/bronze/SalesLT/\"):\n",
    "  print(i.name)"
   ]
  },
  {
   "cell_type": "code",
   "execution_count": 0,
   "metadata": {
    "application/vnd.databricks.v1+cell": {
     "cellMetadata": {
      "byteLimit": 2048000,
      "rowLimit": 10000
     },
     "inputWidgets": {},
     "nuid": "40755c5c-5c17-4260-94ef-5ee7991591cd",
     "showTitle": false,
     "tableResultSettingsMap": {},
     "title": ""
    }
   },
   "outputs": [],
   "source": [
    "table_names = []\n",
    "\n",
    "for i in dbutils.fs.ls(\"mnt/dataengproj/bronze/SalesLT/\"):\n",
    "  table_names.append(i.name.split('/')[0])"
   ]
  },
  {
   "cell_type": "markdown",
   "metadata": {
    "application/vnd.databricks.v1+cell": {
     "cellMetadata": {},
     "inputWidgets": {},
     "nuid": "716095c9-d045-4f60-862f-768cd4ace72a",
     "showTitle": false,
     "tableResultSettingsMap": {},
     "title": ""
    }
   },
   "source": [
    "####Changing ModifiedDate column to Date format instead of timestamp in every table using loop"
   ]
  },
  {
   "cell_type": "code",
   "execution_count": 0,
   "metadata": {
    "application/vnd.databricks.v1+cell": {
     "cellMetadata": {
      "byteLimit": 2048000,
      "rowLimit": 10000
     },
     "inputWidgets": {},
     "nuid": "69fd8714-7581-417b-a406-4b6efd3ee728",
     "showTitle": false,
     "tableResultSettingsMap": {},
     "title": ""
    }
   },
   "outputs": [],
   "source": [
    "from pyspark.sql.functions import from_utc_timestamp, date_format\n",
    "from pyspark.sql.types import TimestampType\n",
    "\n",
    "for i in table_names:\n",
    "  path = 'dbfs:/mnt/dataengproj/bronze/SalesLT/' + i + '/' + i + '.parquet'\n",
    "  df = spark.read.format('parquet').load(path)\n",
    "  columns = df.columns\n",
    "\n",
    "  for col in columns:\n",
    "    if \"Date\" in col or \"date\" in col:\n",
    "      df = df.withColumn(col,date_format(from_utc_timestamp(df[col].cast(TimestampType()),\"UTC\"),\"yyyy-MM-dd\"))\n",
    "\n",
    "  output_path = 'dbfs:/mnt/dataengproj/silver/SalesLT/' + i + '/'\n",
    "  df.write.format(\"delta\").mode(\"overwrite\").save(output_path)"
   ]
  },
  {
   "cell_type": "markdown",
   "metadata": {
    "application/vnd.databricks.v1+cell": {
     "cellMetadata": {},
     "inputWidgets": {},
     "nuid": "d4493990-4718-4924-b4be-ae20419340ac",
     "showTitle": false,
     "tableResultSettingsMap": {},
     "title": ""
    }
   },
   "source": [
    "####All columns with date has been transformed into Date format instead of Timestamp and all tables were moved to Silver layer in delta table format"
   ]
  },
  {
   "cell_type": "code",
   "execution_count": 0,
   "metadata": {
    "application/vnd.databricks.v1+cell": {
     "cellMetadata": {},
     "inputWidgets": {},
     "nuid": "1f29a53a-5382-4e52-a293-594a47efff13",
     "showTitle": false,
     "tableResultSettingsMap": {},
     "title": ""
    }
   },
   "outputs": [],
   "source": [
    "display(df)"
   ]
  }
 ],
 "metadata": {
  "application/vnd.databricks.v1+notebook": {
   "dashboards": [],
   "environmentMetadata": {
    "base_environment": "",
    "client": "1"
   },
   "language": "python",
   "notebookMetadata": {
    "mostRecentlyExecutedCommandWithImplicitDF": {
     "commandId": 3361243218636392,
     "dataframes": [
      "_sqldf"
     ]
    },
    "pythonIndentUnit": 2
   },
   "notebookName": "bronze to silver",
   "widgets": {}
  },
  "language_info": {
   "name": "python"
  }
 },
 "nbformat": 4,
 "nbformat_minor": 0
}
